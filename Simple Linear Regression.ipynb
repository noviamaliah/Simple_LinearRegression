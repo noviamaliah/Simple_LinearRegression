{
 "cells": [
  {
   "cell_type": "markdown",
   "metadata": {
    "id": "6BWKP6LLj0c5"
   },
   "source": [
    "# Simple Linear Regression"
   ]
  },
  {
   "cell_type": "markdown",
   "metadata": {
    "id": "uOGeBJri65yd"
   },
   "source": [
    "Regresi linear sederhana berfungsi untuk mengetahui hubungan sebab akibat atau mengetahui pengaruh variabel faktor penyebab (X) terhadap variabel akibatnya (Y). "
   ]
  },
  {
   "cell_type": "markdown",
   "metadata": {
    "id": "fGiexq2_j0c_"
   },
   "source": [
    "## 1 Import Libraries and Data"
   ]
  },
  {
   "cell_type": "markdown",
   "metadata": {
    "id": "giFY7CwvZjMm"
   },
   "source": [
    "Pada studi kasus simple linear regression menggunakan data dengan variabel independen (X) yaitu Sr dan variabel dependen Aroma. Pada studi kasus kali ini, ingin diketahui sejauh mana pengaruh konsentrasi Strontium (Sr) terhadap rating Aroma?"
   ]
  },
  {
   "cell_type": "markdown",
   "metadata": {
    "id": "IHgd0BPcGe0Z"
   },
   "source": [
    "variabel independen (X) = Sr, menyatakan besarnya konsentrasi bahan Strontium (Sr).<br>\n",
    "variable dependen (y) = Aroma, rating aroma. <br>"
   ]
  },
  {
   "cell_type": "code",
   "execution_count": 1,
   "metadata": {
    "id": "O5QPE79dvsVq"
   },
   "outputs": [],
   "source": [
    "# Load library/package\n",
    "import os\n",
    "import warnings\n",
    "import pandas as pd\n",
    "import numpy as np\n",
    "import seaborn as sns\n",
    "import matplotlib.pyplot as plt\n",
    "from sklearn import metrics\n",
    "from scipy.stats import shapiro\n",
    "\n",
    "# Sklearn\n",
    "from sklearn.linear_model import LinearRegression\n",
    "from sklearn.model_selection import train_test_split\n",
    "from sklearn.preprocessing import StandardScaler\n",
    "\n",
    "# Statmodels\n",
    "import statsmodels\n",
    "import statsmodels.api as sm"
   ]
  },
  {
   "cell_type": "code",
   "execution_count": 2,
   "metadata": {},
   "outputs": [
    {
     "data": {
      "text/html": [
       "<div>\n",
       "<style scoped>\n",
       "    .dataframe tbody tr th:only-of-type {\n",
       "        vertical-align: middle;\n",
       "    }\n",
       "\n",
       "    .dataframe tbody tr th {\n",
       "        vertical-align: top;\n",
       "    }\n",
       "\n",
       "    .dataframe thead th {\n",
       "        text-align: right;\n",
       "    }\n",
       "</style>\n",
       "<table border=\"1\" class=\"dataframe\">\n",
       "  <thead>\n",
       "    <tr style=\"text-align: right;\">\n",
       "      <th></th>\n",
       "      <th>Sr</th>\n",
       "      <th>Aroma</th>\n",
       "    </tr>\n",
       "  </thead>\n",
       "  <tbody>\n",
       "    <tr>\n",
       "      <th>0</th>\n",
       "      <td>1.230</td>\n",
       "      <td>3.3</td>\n",
       "    </tr>\n",
       "    <tr>\n",
       "      <th>1</th>\n",
       "      <td>1.050</td>\n",
       "      <td>4.6</td>\n",
       "    </tr>\n",
       "    <tr>\n",
       "      <th>2</th>\n",
       "      <td>1.140</td>\n",
       "      <td>3.9</td>\n",
       "    </tr>\n",
       "    <tr>\n",
       "      <th>3</th>\n",
       "      <td>0.156</td>\n",
       "      <td>7.1</td>\n",
       "    </tr>\n",
       "    <tr>\n",
       "      <th>4</th>\n",
       "      <td>1.130</td>\n",
       "      <td>5.6</td>\n",
       "    </tr>\n",
       "  </tbody>\n",
       "</table>\n",
       "</div>"
      ],
      "text/plain": [
       "      Sr  Aroma\n",
       "0  1.230    3.3\n",
       "1  1.050    4.6\n",
       "2  1.140    3.9\n",
       "3  0.156    7.1\n",
       "4  1.130    5.6"
      ]
     },
     "execution_count": 2,
     "metadata": {},
     "output_type": "execute_result"
    }
   ],
   "source": [
    "wine_aroma = pd.read_csv(\"D:/Data Scientist/Dataset/Dataset - Regression/Data wine aroma.csv\", usecols=[\"Sr\", \"Aroma\"])\n",
    "wine_aroma.head()"
   ]
  },
  {
   "cell_type": "markdown",
   "metadata": {
    "id": "SxF8sJ_7j0dB"
   },
   "source": [
    "## 2 Exploratory Data Analysis (EDA) & Data Pre-Processing"
   ]
  },
  {
   "cell_type": "markdown",
   "metadata": {
    "id": "8swrQbQvLsXH"
   },
   "source": [
    "### Summary Data"
   ]
  },
  {
   "cell_type": "code",
   "execution_count": 3,
   "metadata": {
    "id": "155mTrOovxJR"
   },
   "outputs": [
    {
     "name": "stdout",
     "output_type": "stream",
     "text": [
      "<class 'pandas.core.frame.DataFrame'>\n",
      "RangeIndex: 41 entries, 0 to 40\n",
      "Data columns (total 2 columns):\n",
      " #   Column  Non-Null Count  Dtype  \n",
      "---  ------  --------------  -----  \n",
      " 0   Sr      41 non-null     float64\n",
      " 1   Aroma   41 non-null     float64\n",
      "dtypes: float64(2)\n",
      "memory usage: 784.0 bytes\n"
     ]
    }
   ],
   "source": [
    "wine_aroma.info()"
   ]
  },
  {
   "cell_type": "code",
   "execution_count": 4,
   "metadata": {},
   "outputs": [
    {
     "data": {
      "text/html": [
       "<div>\n",
       "<style scoped>\n",
       "    .dataframe tbody tr th:only-of-type {\n",
       "        vertical-align: middle;\n",
       "    }\n",
       "\n",
       "    .dataframe tbody tr th {\n",
       "        vertical-align: top;\n",
       "    }\n",
       "\n",
       "    .dataframe thead th {\n",
       "        text-align: right;\n",
       "    }\n",
       "</style>\n",
       "<table border=\"1\" class=\"dataframe\">\n",
       "  <thead>\n",
       "    <tr style=\"text-align: right;\">\n",
       "      <th></th>\n",
       "      <th>Sr</th>\n",
       "      <th>Aroma</th>\n",
       "    </tr>\n",
       "  </thead>\n",
       "  <tbody>\n",
       "    <tr>\n",
       "      <th>count</th>\n",
       "      <td>41.000000</td>\n",
       "      <td>41.000000</td>\n",
       "    </tr>\n",
       "    <tr>\n",
       "      <th>mean</th>\n",
       "      <td>0.800512</td>\n",
       "      <td>4.924390</td>\n",
       "    </tr>\n",
       "    <tr>\n",
       "      <th>std</th>\n",
       "      <td>0.445945</td>\n",
       "      <td>1.023177</td>\n",
       "    </tr>\n",
       "    <tr>\n",
       "      <th>min</th>\n",
       "      <td>0.156000</td>\n",
       "      <td>3.300000</td>\n",
       "    </tr>\n",
       "    <tr>\n",
       "      <th>25%</th>\n",
       "      <td>0.360000</td>\n",
       "      <td>4.300000</td>\n",
       "    </tr>\n",
       "    <tr>\n",
       "      <th>50%</th>\n",
       "      <td>0.898000</td>\n",
       "      <td>5.000000</td>\n",
       "    </tr>\n",
       "    <tr>\n",
       "      <th>75%</th>\n",
       "      <td>1.120000</td>\n",
       "      <td>5.500000</td>\n",
       "    </tr>\n",
       "    <tr>\n",
       "      <th>max</th>\n",
       "      <td>2.140000</td>\n",
       "      <td>7.700000</td>\n",
       "    </tr>\n",
       "  </tbody>\n",
       "</table>\n",
       "</div>"
      ],
      "text/plain": [
       "              Sr      Aroma\n",
       "count  41.000000  41.000000\n",
       "mean    0.800512   4.924390\n",
       "std     0.445945   1.023177\n",
       "min     0.156000   3.300000\n",
       "25%     0.360000   4.300000\n",
       "50%     0.898000   5.000000\n",
       "75%     1.120000   5.500000\n",
       "max     2.140000   7.700000"
      ]
     },
     "execution_count": 4,
     "metadata": {},
     "output_type": "execute_result"
    }
   ],
   "source": [
    "wine_aroma.describe()"
   ]
  },
  {
   "cell_type": "markdown",
   "metadata": {
    "id": "6vCAySKqj0dH"
   },
   "source": [
    "### Missing Value"
   ]
  },
  {
   "cell_type": "markdown",
   "metadata": {
    "id": "wOEdZpKUrHqF"
   },
   "source": [
    "Missing value adalah data yang hilang, atau nilai yang hilang, terjadi ketika tidak ada nilai data yang disimpan untuk variabel dalam pengamatan. Kita ingin melakukan identifikasi, apakah terdapat data yang missing atau tidak dalam observasi pengamatan."
   ]
  },
  {
   "cell_type": "code",
   "execution_count": 5,
   "metadata": {
    "id": "oiBe5-p5v5G5"
   },
   "outputs": [
    {
     "data": {
      "text/plain": [
       "Sr       0\n",
       "Aroma    0\n",
       "dtype: int64"
      ]
     },
     "execution_count": 5,
     "metadata": {},
     "output_type": "execute_result"
    }
   ],
   "source": [
    "wine_aroma.isna().sum()"
   ]
  },
  {
   "cell_type": "markdown",
   "metadata": {
    "id": "A6fe2E1rJ03W"
   },
   "source": [
    "### Duplicated Data"
   ]
  },
  {
   "cell_type": "markdown",
   "metadata": {
    "id": "5Dv5OFVMr59k"
   },
   "source": [
    "Melakukan identifikasi, apakah terdapat data/observasi yang sama atau tidak, apabila ada data yang terduplikasi maka data duplikasi harus dihapus."
   ]
  },
  {
   "cell_type": "code",
   "execution_count": 6,
   "metadata": {
    "id": "qL-8at2Uv9Mx"
   },
   "outputs": [
    {
     "data": {
      "text/html": [
       "<div>\n",
       "<style scoped>\n",
       "    .dataframe tbody tr th:only-of-type {\n",
       "        vertical-align: middle;\n",
       "    }\n",
       "\n",
       "    .dataframe tbody tr th {\n",
       "        vertical-align: top;\n",
       "    }\n",
       "\n",
       "    .dataframe thead th {\n",
       "        text-align: right;\n",
       "    }\n",
       "</style>\n",
       "<table border=\"1\" class=\"dataframe\">\n",
       "  <thead>\n",
       "    <tr style=\"text-align: right;\">\n",
       "      <th></th>\n",
       "      <th>Sr</th>\n",
       "      <th>Aroma</th>\n",
       "    </tr>\n",
       "  </thead>\n",
       "  <tbody>\n",
       "    <tr>\n",
       "      <th>20</th>\n",
       "      <td>0.186</td>\n",
       "      <td>5.5</td>\n",
       "    </tr>\n",
       "    <tr>\n",
       "      <th>33</th>\n",
       "      <td>0.720</td>\n",
       "      <td>5.1</td>\n",
       "    </tr>\n",
       "    <tr>\n",
       "      <th>37</th>\n",
       "      <td>0.491</td>\n",
       "      <td>5.1</td>\n",
       "    </tr>\n",
       "  </tbody>\n",
       "</table>\n",
       "</div>"
      ],
      "text/plain": [
       "       Sr  Aroma\n",
       "20  0.186    5.5\n",
       "33  0.720    5.1\n",
       "37  0.491    5.1"
      ]
     },
     "execution_count": 6,
     "metadata": {},
     "output_type": "execute_result"
    }
   ],
   "source": [
    "duplicate = wine_aroma[wine_aroma.duplicated()]\n",
    "duplicate"
   ]
  },
  {
   "cell_type": "code",
   "execution_count": 7,
   "metadata": {},
   "outputs": [],
   "source": [
    "# drop duplicate\n",
    "wine_aroma.drop_duplicates(inplace=True)"
   ]
  },
  {
   "cell_type": "code",
   "execution_count": 8,
   "metadata": {},
   "outputs": [
    {
     "data": {
      "text/plain": [
       "(38, 2)"
      ]
     },
     "execution_count": 8,
     "metadata": {},
     "output_type": "execute_result"
    }
   ],
   "source": [
    "# Cek ukuran data apakah duplicate sudah terhapus\n",
    "wine_aroma.shape"
   ]
  },
  {
   "cell_type": "markdown",
   "metadata": {
    "id": "s6YUKInSj0dI"
   },
   "source": [
    "### Adjusting the type of variable"
   ]
  },
  {
   "cell_type": "code",
   "execution_count": 9,
   "metadata": {
    "id": "e10Vdsz9wA61"
   },
   "outputs": [
    {
     "name": "stdout",
     "output_type": "stream",
     "text": [
      "<class 'pandas.core.frame.DataFrame'>\n",
      "Int64Index: 38 entries, 0 to 40\n",
      "Data columns (total 2 columns):\n",
      " #   Column  Non-Null Count  Dtype  \n",
      "---  ------  --------------  -----  \n",
      " 0   Sr      38 non-null     float64\n",
      " 1   Aroma   38 non-null     float64\n",
      "dtypes: float64(2)\n",
      "memory usage: 912.0 bytes\n"
     ]
    }
   ],
   "source": [
    "#Cek kemabali informasi data\n",
    "wine_aroma.info()"
   ]
  },
  {
   "cell_type": "markdown",
   "metadata": {
    "id": "BfY7JT1kPCG5"
   },
   "source": [
    "### Uji Asumsi sebelum Pemodelan Regresi Linier Sederhana"
   ]
  },
  {
   "cell_type": "markdown",
   "metadata": {
    "id": "cVuc2BHMTAv2"
   },
   "source": [
    "Asumsi yang perlu dipenuhi sebelum dilakukannya pemodelan regresi linier sederhana yaitu data berdistribusi normal (normalitas data) dan hubungan linier antara variabel prediktor (independen) dan variabel respon (dependen), karena variabel prediktornya ada 1 variabel maka tidak perlu uji asumsi gejala multikolinieritas.\n",
    "\n",
    "Uji Normalitas adalah uji statistik yang dilakukan untuk mengetahui bagaimana sebaran sebuah data. Uji Normalitas data perlu dilakukan juga untuk mengetahui keberadaan ourlier (data pencilan) dan normalitas data variabel respon (dependen) agar bisa diatasi."
   ]
  },
  {
   "cell_type": "markdown",
   "metadata": {
    "id": "vNbMJ4Hhq_Rh"
   },
   "source": [
    "#### Uji Nomalitas Data"
   ]
  },
  {
   "cell_type": "markdown",
   "metadata": {},
   "source": [
    "Syarat distribusi normal pada data hanya diberlakukan pada variabel Y, akan tetapi kita akan melihat sebaran data dari semua variabel."
   ]
  },
  {
   "cell_type": "code",
   "execution_count": 10,
   "metadata": {
    "id": "ryi_lks4wP2i"
   },
   "outputs": [
    {
     "data": {
      "image/png": "[encoded data removed]",
      "text/plain": [
       "<Figure size 720x360 with 2 Axes>"
      ]
     },
     "metadata": {
      "needs_background": "light"
     },
     "output_type": "display_data"
    }
   ],
   "source": [
    "#Cek normalitas data dengan histogram\n",
    "warnings.filterwarnings(\"ignore\")\n",
    "fig, axes = plt.subplots(1, 2, figsize=(10, 5))\n",
    "\n",
    "sns.distplot(wine_aroma[\"Sr\"], ax=axes[0])\n",
    "sns.distplot(wine_aroma[\"Aroma\"], ax=axes[1])\n",
    "plt.show()"
   ]
  },
  {
   "cell_type": "code",
   "execution_count": 11,
   "metadata": {},
   "outputs": [
    {
     "data": {
      "image/png": "[encoded data removed]",
      "text/plain": [
       "<Figure size 720x360 with 2 Axes>"
      ]
     },
     "metadata": {
      "needs_background": "light"
     },
     "output_type": "display_data"
    }
   ],
   "source": [
    "#Cek normalitas data dengan boxplot\n",
    "fig, axes = plt.subplots(1, 2, figsize=(10, 5))\n",
    "\n",
    "sns.boxplot(wine_aroma[\"Sr\"], ax=axes[0])\n",
    "sns.boxplot(wine_aroma[\"Aroma\"], ax=axes[1])\n",
    "plt.show()"
   ]
  },
  {
   "cell_type": "code",
   "execution_count": 12,
   "metadata": {},
   "outputs": [
    {
     "data": {
      "image/png": "[encoded data removed]",
      "text/plain": [
       "<Figure size 720x360 with 2 Axes>"
      ]
     },
     "metadata": {
      "needs_background": "light"
     },
     "output_type": "display_data"
    }
   ],
   "source": [
    "#Cek normalitas data dengan Q-Q plot\n",
    "fig, axes = plt.subplots(1, 2, figsize=(10, 5))\n",
    "\n",
    "sm.graphics.qqplot(wine_aroma[\"Sr\"].dropna(), line='s', ax=axes[0])\n",
    "axes[0].title.set_text('Q-Qplot Plot Sr')\n",
    "sm.graphics.qqplot(wine_aroma[\"Aroma\"].dropna(), line='s', ax=axes[1])\n",
    "axes[1].title.set_text('Q-Qplot Plot Aroma')\n",
    "plt.show()"
   ]
  },
  {
   "cell_type": "markdown",
   "metadata": {
    "id": "O42SRO-_aR1_"
   },
   "source": [
    "> Insight Grafik:\n",
    "*   Histogram : \n",
    "Hasil dari cek normalitas data dengan histogram diketahui hasilnya bahwa histogram dari kedua variabel berbentuk lonceng berdistribusi normal.\n",
    "*   Boxplot :\n",
    "Terdapat outliers pada variabel Aroma (y) tetapi tidak jauh dalam range.\n",
    "*   Q-Q Plot :\n",
    "Pada variabel Aroma (y) titik-titik biru mengikuti garis merah sehingga mengindikasi data berdistribusi normal.\n",
    "\n",
    "Pengecekan normalitas data secara visual tidak dapat ditarik kesimpulan sehingga perlu dilakukan pengujian hipotesis berikut:\n",
    "<br>\n",
    "<br>\n",
    "Ho: Data berdistribusi Normal <br>\n",
    "H1: Data tidak berdistribusi Normal\n",
    "<br>\n",
    "<br>\n",
    "Bila p-value kurang dari 0.05 maka Ho Ditolak, berarti Data tidak berdistribusi Normal\n",
    "Bila p-value lebih dari 0.05 maka Ho Diterima, berarti Data berdistribusi Normal.\n",
    "<br>\n",
    "<br>\n",
    "Salah satu Uji Distribusi Normalitas Data yaitu Uji Shapiro-Wilk."
   ]
  },
  {
   "cell_type": "code",
   "execution_count": 13,
   "metadata": {
    "id": "4iEJaWB7wd23"
   },
   "outputs": [
    {
     "name": "stdout",
     "output_type": "stream",
     "text": [
      "Gagal Tolak H0, 0.1817 berdistribusi normal\n"
     ]
    }
   ],
   "source": [
    "# Uji Shapiro-Wilk\n",
    "from scipy.stats import shapiro\n",
    "stat, p = shapiro(wine_aroma[\"Aroma\"])\n",
    "\n",
    "alpha = 0.05\n",
    "if round(p, 4) > alpha:\n",
    "    print('Gagal Tolak H0, {} berdistribusi normal'. format(round(p, 4)))\n",
    "else:\n",
    "    print('Tolak H0, {} tidak berdistribusi normal'.format(round(p, 4)))"
   ]
  },
  {
   "cell_type": "markdown",
   "metadata": {
    "id": "TDyrnvt-qfbc"
   },
   "source": [
    "> Hasil pengujian menunjukkan bahwa : p-value >0.05 maka gagal tolak H0 yang berarti variabel Aroma berdistribusi normal.\n",
    "\n",
    "> Karena data outliers sedikit dan tidak mempengaruhi normalitas data, kita dapat mengabaikannya. Tetapi apabila normalitas data dipengaruhi oleh adanya outliers maka dapat dilakukan trimming/penghapusan data outliers, menambah data observasi, atau menggunakan metode Robust Regression. Selain itu, data outliers ini dalam pengaplikasian yang sesungguhnya perlu dianalisis ulang untuk dicari tau karakteristiknya lebih dalam."
   ]
  },
  {
   "cell_type": "markdown",
   "metadata": {
    "id": "E2PG99pyfrkZ"
   },
   "source": [
    "#### Uji Linearitas Data"
   ]
  },
  {
   "cell_type": "markdown",
   "metadata": {
    "id": "S61jvH338GPb"
   },
   "source": [
    "Uji Linearitas adalah sifat hubungan yang linear antara variabel, artinya setiap perubahan yang terjadi pada satu variabel akan diikuti perubahan dengan besaran yang sejajar pada variabel lainnya."
   ]
  },
  {
   "cell_type": "code",
   "execution_count": 14,
   "metadata": {
    "id": "7GzdaDEHw3Me"
   },
   "outputs": [
    {
     "data": {
      "image/png": "[encoded data removed]",
      "text/plain": [
       "<Figure size 432x288 with 1 Axes>"
      ]
     },
     "metadata": {
      "needs_background": "light"
     },
     "output_type": "display_data"
    }
   ],
   "source": [
    "#Keterkaitan X dan Y\n",
    "sns.regplot(x=wine_aroma[\"Sr\"], y=wine_aroma[\"Aroma\"], lowess=True, line_kws={\"color\" : \"red\"})\n",
    "plt.xlabel(\"Sr\")\n",
    "plt.ylabel(\"Aroma\")\n",
    "plt.title(\"Scattter plot Sr vs Aroma\")\n",
    "plt.show()"
   ]
  },
  {
   "cell_type": "markdown",
   "metadata": {
    "id": "wKsOU9NzsMie"
   },
   "source": [
    "## 3 Membangun Model Regresi"
   ]
  },
  {
   "cell_type": "code",
   "execution_count": 15,
   "metadata": {
    "id": "gfw4yvZ1w50D"
   },
   "outputs": [],
   "source": [
    "X = wine_aroma[\"Sr\"].values.reshape(-1, 1)\n",
    "y = wine_aroma[\"Aroma\"].values.reshape(-1, 1)"
   ]
  },
  {
   "cell_type": "markdown",
   "metadata": {
    "id": "_ogXE7tZj0dK"
   },
   "source": [
    "### Membangun Model dengan Sklearn"
   ]
  },
  {
   "cell_type": "code",
   "execution_count": 16,
   "metadata": {
    "id": "qM_hLbHPw9OS"
   },
   "outputs": [
    {
     "name": "stdout",
     "output_type": "stream",
     "text": [
      "Intercept Linear Regression Model : [6.44129785]\n",
      "Coef Linear Regression Model : [[-1.86384032]]\n"
     ]
    }
   ],
   "source": [
    "#Membangun model\n",
    "LR = LinearRegression()\n",
    "LR.fit(X, y)\n",
    "\n",
    "print(\"Intercept Linear Regression Model :\", LR.intercept_)\n",
    "print(\"Coef Linear Regression Model :\", LR.coef_)"
   ]
  },
  {
   "cell_type": "code",
   "execution_count": 17,
   "metadata": {},
   "outputs": [
    {
     "data": {
      "text/html": [
       "<div>\n",
       "<style scoped>\n",
       "    .dataframe tbody tr th:only-of-type {\n",
       "        vertical-align: middle;\n",
       "    }\n",
       "\n",
       "    .dataframe tbody tr th {\n",
       "        vertical-align: top;\n",
       "    }\n",
       "\n",
       "    .dataframe thead th {\n",
       "        text-align: right;\n",
       "    }\n",
       "</style>\n",
       "<table border=\"1\" class=\"dataframe\">\n",
       "  <thead>\n",
       "    <tr style=\"text-align: right;\">\n",
       "      <th></th>\n",
       "      <th>Sr</th>\n",
       "      <th>Aroma</th>\n",
       "      <th>Prediction_Aroma</th>\n",
       "    </tr>\n",
       "  </thead>\n",
       "  <tbody>\n",
       "    <tr>\n",
       "      <th>0</th>\n",
       "      <td>1.230</td>\n",
       "      <td>3.3</td>\n",
       "      <td>4.148774</td>\n",
       "    </tr>\n",
       "    <tr>\n",
       "      <th>1</th>\n",
       "      <td>1.050</td>\n",
       "      <td>4.6</td>\n",
       "      <td>4.484266</td>\n",
       "    </tr>\n",
       "    <tr>\n",
       "      <th>2</th>\n",
       "      <td>1.140</td>\n",
       "      <td>3.9</td>\n",
       "      <td>4.316520</td>\n",
       "    </tr>\n",
       "    <tr>\n",
       "      <th>3</th>\n",
       "      <td>0.156</td>\n",
       "      <td>7.1</td>\n",
       "      <td>6.150539</td>\n",
       "    </tr>\n",
       "    <tr>\n",
       "      <th>4</th>\n",
       "      <td>1.130</td>\n",
       "      <td>5.6</td>\n",
       "      <td>4.335158</td>\n",
       "    </tr>\n",
       "  </tbody>\n",
       "</table>\n",
       "</div>"
      ],
      "text/plain": [
       "      Sr  Aroma  Prediction_Aroma\n",
       "0  1.230    3.3          4.148774\n",
       "1  1.050    4.6          4.484266\n",
       "2  1.140    3.9          4.316520\n",
       "3  0.156    7.1          6.150539\n",
       "4  1.130    5.6          4.335158"
      ]
     },
     "execution_count": 17,
     "metadata": {},
     "output_type": "execute_result"
    }
   ],
   "source": [
    "#Membuat prediksi model\n",
    "Prediction_train = LR.predict(X)\n",
    "\n",
    "dt_linreg_train = pd.DataFrame(X, columns=[\"Sr\"])\n",
    "dt_linreg_train[\"Aroma\"] = y\n",
    "dt_linreg_train[\"Prediction_Aroma\"] = Prediction_train\n",
    "dt_linreg_train.head()"
   ]
  },
  {
   "cell_type": "code",
   "execution_count": 18,
   "metadata": {},
   "outputs": [
    {
     "data": {
      "text/html": [
       "<div>\n",
       "<style scoped>\n",
       "    .dataframe tbody tr th:only-of-type {\n",
       "        vertical-align: middle;\n",
       "    }\n",
       "\n",
       "    .dataframe tbody tr th {\n",
       "        vertical-align: top;\n",
       "    }\n",
       "\n",
       "    .dataframe thead th {\n",
       "        text-align: right;\n",
       "    }\n",
       "</style>\n",
       "<table border=\"1\" class=\"dataframe\">\n",
       "  <thead>\n",
       "    <tr style=\"text-align: right;\">\n",
       "      <th></th>\n",
       "      <th>Sr</th>\n",
       "      <th>Aroma</th>\n",
       "      <th>Prediction_Aroma</th>\n",
       "      <th>Residual</th>\n",
       "    </tr>\n",
       "  </thead>\n",
       "  <tbody>\n",
       "    <tr>\n",
       "      <th>0</th>\n",
       "      <td>1.230</td>\n",
       "      <td>3.3</td>\n",
       "      <td>4.148774</td>\n",
       "      <td>-0.848774</td>\n",
       "    </tr>\n",
       "    <tr>\n",
       "      <th>1</th>\n",
       "      <td>1.050</td>\n",
       "      <td>4.6</td>\n",
       "      <td>4.484266</td>\n",
       "      <td>0.115734</td>\n",
       "    </tr>\n",
       "    <tr>\n",
       "      <th>2</th>\n",
       "      <td>1.140</td>\n",
       "      <td>3.9</td>\n",
       "      <td>4.316520</td>\n",
       "      <td>-0.416520</td>\n",
       "    </tr>\n",
       "    <tr>\n",
       "      <th>3</th>\n",
       "      <td>0.156</td>\n",
       "      <td>7.1</td>\n",
       "      <td>6.150539</td>\n",
       "      <td>0.949461</td>\n",
       "    </tr>\n",
       "    <tr>\n",
       "      <th>4</th>\n",
       "      <td>1.130</td>\n",
       "      <td>5.6</td>\n",
       "      <td>4.335158</td>\n",
       "      <td>1.264842</td>\n",
       "    </tr>\n",
       "  </tbody>\n",
       "</table>\n",
       "</div>"
      ],
      "text/plain": [
       "      Sr  Aroma  Prediction_Aroma  Residual\n",
       "0  1.230    3.3          4.148774 -0.848774\n",
       "1  1.050    4.6          4.484266  0.115734\n",
       "2  1.140    3.9          4.316520 -0.416520\n",
       "3  0.156    7.1          6.150539  0.949461\n",
       "4  1.130    5.6          4.335158  1.264842"
      ]
     },
     "execution_count": 18,
     "metadata": {},
     "output_type": "execute_result"
    }
   ],
   "source": [
    "#Memasukkan residual kedalam dataframe\n",
    "dt_linreg_train[\"Residual\"] = y - Prediction_train\n",
    "dt_linreg_train.head()"
   ]
  },
  {
   "cell_type": "markdown",
   "metadata": {
    "id": "yMYCtFA9O8-g"
   },
   "source": [
    "#### Asumsi Analisis Regresi"
   ]
  },
  {
   "cell_type": "markdown",
   "metadata": {
    "id": "ej5D8kJAl6Yt"
   },
   "source": [
    "Uji Asumsi klasik adalah analisis yang dilakukan untuk menilai apakah di dalam sebuah model regresi linear Ordinary Least Square (OLS) terdapat masalah-masalah asumsi klasik."
   ]
  },
  {
   "cell_type": "markdown",
   "metadata": {
    "id": "eeEz7wjftaI0"
   },
   "source": [
    "**Asumsi Residual Distribusi Normal**"
   ]
  },
  {
   "cell_type": "code",
   "execution_count": 19,
   "metadata": {
    "id": "MkOBY9V2xBXU"
   },
   "outputs": [
    {
     "data": {
      "image/png": "[encoded data removed]",
      "text/plain": [
       "<Figure size 432x288 with 1 Axes>"
      ]
     },
     "metadata": {
      "needs_background": "light"
     },
     "output_type": "display_data"
    }
   ],
   "source": [
    "#Distribusi residual dengan histogram\n",
    "sns.distplot(dt_linreg_train[\"Residual\"], label=\"residual\")\n",
    "plt.legend()\n",
    "plt.show()"
   ]
  },
  {
   "cell_type": "code",
   "execution_count": 20,
   "metadata": {},
   "outputs": [
    {
     "name": "stdout",
     "output_type": "stream",
     "text": [
      "Gagal Tolak H0, 0.13239143788814545 berdistribusi normal\n"
     ]
    }
   ],
   "source": [
    "# Uji Shapiro-Wilk\n",
    "from scipy.stats import shapiro\n",
    "stat, p = shapiro(dt_linreg_train[\"Residual\"])\n",
    "\n",
    "alpha = 0.05\n",
    "if p > alpha:\n",
    "    print('Gagal Tolak H0, {} berdistribusi normal'. format(p))\n",
    "else:\n",
    "    print('Tolak H0, {} tidak berdistribusi normal'.format(p))"
   ]
  },
  {
   "cell_type": "markdown",
   "metadata": {},
   "source": [
    "> Karena hasil pengujian distribusi Residual p-value > 0.05 maka Gagal Tolak H0 berarti Residual berdistribusi normal."
   ]
  },
  {
   "cell_type": "markdown",
   "metadata": {
    "id": "8lqiWJig-1Fr"
   },
   "source": [
    "**Asumsi No autokorelasi**\n"
   ]
  },
  {
   "cell_type": "markdown",
   "metadata": {
    "id": "kukB2Mbp9Sw5"
   },
   "source": [
    "Uji Durbin watson akan menghasilkan nilai Durbin Watson (DW) yang nantinya akan dibandingkan dengan dua (2) nilai Durbin Watson Tabel, yaitu Durbin Upper (DU) dan Durbin Lower DL). Dikatakan tidak terdapat autokorelasi jika nilai DW > DU dan (4-DW) > DU atau bisa dinotasikan juga sebagai berikut: (4-DW) > DU < DW.\n"
   ]
  },
  {
   "cell_type": "code",
   "execution_count": 21,
   "metadata": {
    "id": "r8UPYHMnxGtE"
   },
   "outputs": [
    {
     "data": {
      "text/plain": [
       "1.686086708645966"
      ]
     },
     "execution_count": 21,
     "metadata": {},
     "output_type": "execute_result"
    }
   ],
   "source": [
    "statsmodels.stats.stattools.durbin_watson(dt_linreg_train[\"Residual\"], axis=0)"
   ]
  },
  {
   "cell_type": "markdown",
   "metadata": {},
   "source": [
    "> Dari output di atas diketahui bahwa skor Durbin Watson antara 1,5 dan 2,5 maka dapat disimpulkan bahwa tidak ada autokorelasi dan asumsi puas."
   ]
  },
  {
   "cell_type": "markdown",
   "metadata": {
    "id": "USmEDrG_tous"
   },
   "source": [
    "**Asumsi Homoskedastisitas**"
   ]
  },
  {
   "cell_type": "markdown",
   "metadata": {
    "id": "mXBJHlpa5UHw"
   },
   "source": [
    "Uji Homoskedastisiitas untuk melihat apakah terdapat ketidaksamaan varians dari residual satu ke pengamatan ke pengamatan yang lain.\n"
   ]
  },
  {
   "cell_type": "code",
   "execution_count": 22,
   "metadata": {
    "id": "gnt_WHMqxJYt"
   },
   "outputs": [
    {
     "data": {
      "image/png": "[encoded data removed]",
      "text/plain": [
       "<Figure size 432x288 with 1 Axes>"
      ]
     },
     "metadata": {
      "needs_background": "light"
     },
     "output_type": "display_data"
    }
   ],
   "source": [
    "asm_homosk = plt.scatter(dt_linreg_train[\"Prediction_Aroma\"], dt_linreg_train[\"Residual\"])\n",
    "plt.xlabel(\"Predicted\")\n",
    "plt.ylabel(\"Residuals\")\n",
    "asm_homosk = sns.lineplot([2, 5],[0,0],color='red')\n",
    "asm_homosk = plt.title('Residuals vs Prediction')"
   ]
  },
  {
   "cell_type": "markdown",
   "metadata": {},
   "source": [
    "Dari hasil uji homoskedastisitas di atas dapat diketahui bahwa sebaran titik biru menyebar dan tidak membentuk bentuk apapun, sehingga dapat dikatakan bahwa Homoskedastisitas Residual terpenuhi."
   ]
  },
  {
   "cell_type": "markdown",
   "metadata": {
    "id": "LzVjK1QatCAm"
   },
   "source": [
    "#### Evaluasi Model"
   ]
  },
  {
   "cell_type": "code",
   "execution_count": 23,
   "metadata": {
    "id": "0y2ui5-ExL8r"
   },
   "outputs": [
    {
     "name": "stdout",
     "output_type": "stream",
     "text": [
      "R-Square :  0.6240808118800623\n"
     ]
    }
   ],
   "source": [
    "#R-Square\n",
    "print(\"R-Square : \", metrics.r2_score(dt_linreg_train[\"Aroma\"], dt_linreg_train[\"Prediction_Aroma\"]))"
   ]
  },
  {
   "cell_type": "markdown",
   "metadata": {},
   "source": [
    "> Pemodelan regresi linear menghasilkan R-Square sekitar 62% yang berarti variabel konsentrasi Sr dapat menjelaskan rating Aroma sebesar 62%."
   ]
  },
  {
   "cell_type": "code",
   "execution_count": 24,
   "metadata": {},
   "outputs": [
    {
     "name": "stdout",
     "output_type": "stream",
     "text": [
      "MSE :  0.4101476194592795\n"
     ]
    }
   ],
   "source": [
    "#MSE\n",
    "print(\"MSE : \", metrics.mean_squared_error(dt_linreg_train[\"Aroma\"], dt_linreg_train[\"Prediction_Aroma\"]))"
   ]
  },
  {
   "cell_type": "markdown",
   "metadata": {
    "id": "YTrNywjNj0dL"
   },
   "source": [
    "### Membangun model dengan package Statsmodels"
   ]
  },
  {
   "cell_type": "code",
   "execution_count": 25,
   "metadata": {},
   "outputs": [],
   "source": [
    "# Masukkan intercepts secara manual\n",
    "Input = sm.add_constant(X)"
   ]
  },
  {
   "cell_type": "code",
   "execution_count": 26,
   "metadata": {
    "id": "ZRDh457xxOnh"
   },
   "outputs": [],
   "source": [
    "# Modelling dengan statsmodels\n",
    "SimpleModel = sm.OLS(y, Input, missing='drop')\n",
    "results = SimpleModel.fit()"
   ]
  },
  {
   "cell_type": "code",
   "execution_count": 27,
   "metadata": {
    "id": "3KPxDkpuxR4b"
   },
   "outputs": [
    {
     "name": "stdout",
     "output_type": "stream",
     "text": [
      "                            OLS Regression Results                            \n",
      "==============================================================================\n",
      "Dep. Variable:                      y   R-squared:                       0.624\n",
      "Model:                            OLS   Adj. R-squared:                  0.614\n",
      "Method:                 Least Squares   F-statistic:                     59.77\n",
      "Date:                Tue, 26 Mar 2024   Prob (F-statistic):           3.70e-09\n",
      "Time:                        17:20:39   Log-Likelihood:                -36.986\n",
      "No. Observations:                  38   AIC:                             77.97\n",
      "Df Residuals:                      36   BIC:                             81.25\n",
      "Df Model:                           1                                         \n",
      "Covariance Type:            nonrobust                                         \n",
      "==============================================================================\n",
      "                 coef    std err          t      P>|t|      [0.025      0.975]\n",
      "------------------------------------------------------------------------------\n",
      "const          6.4413      0.226     28.483      0.000       5.983       6.900\n",
      "x1            -1.8638      0.241     -7.731      0.000      -2.353      -1.375\n",
      "==============================================================================\n",
      "Omnibus:                        2.343   Durbin-Watson:                   1.686\n",
      "Prob(Omnibus):                  0.310   Jarque-Bera (JB):                2.134\n",
      "Skew:                           0.553   Prob(JB):                        0.344\n",
      "Kurtosis:                       2.647   Cond. No.                         4.00\n",
      "==============================================================================\n",
      "\n",
      "Notes:\n",
      "[1] Standard Errors assume that the covariance matrix of the errors is correctly specified.\n"
     ]
    }
   ],
   "source": [
    "# Print results\n",
    "print(results.summary())"
   ]
  },
  {
   "cell_type": "markdown",
   "metadata": {},
   "source": [
    "> Dari output di atas, kita dapat melihat nilai-nilai :\n",
    "<br>\n",
    "Nilai P>|t| = 0,000 kurang dari 0,05 artinya bahwa variabel independen Sr memberikan pengaruh secara signifikan pada variabel dependen Aroma.\n",
    "<br>\n",
    "<br>\n",
    "Nilai coef-X1 -1,8638 artinya besarnya pengaruh variabel independen Sr -1,8638 poin. Pada kasus kali ini, jika nilai Sr bertambah satu, maka nilai rating Aroma bertambah 1,8638\n",
    "<br>\n",
    "<br>\n",
    "Nilai R-Squared 0,62 artinya variabel dependen Aroma dapat dijelaskan oleh variabel independen Sr sebesar 62%. Semakin besar nilai R-Squared maka akan semakin bagus.\n",
    "<br>\n",
    "<br>\n",
    "Nilai AIC 77,97 dan BIC 81,25 Nilai ini dapat digunakan ketika dalam analisis regresi menghasilkan beberapa model, dan dijadikan acuan untuk memilih model mana yang terbaik dengan melihat nilai AIC dan BIC yang terkecil."
   ]
  },
  {
   "cell_type": "markdown",
   "metadata": {
    "id": "S6xCEOh7eiOv"
   },
   "source": [
    "### Uji Partial & Serentak Analisis Regresi"
   ]
  },
  {
   "cell_type": "markdown",
   "metadata": {
    "id": "5CJHmEGwD35T"
   },
   "source": [
    "Uji Parameter T-test  memiliki tujuan, apakah variabel independent(X) memberikan pengaruh secara partial terhadap variabel dependent (Y)"
   ]
  },
  {
   "cell_type": "code",
   "execution_count": 28,
   "metadata": {
    "id": "VOIyHhcdxVNM"
   },
   "outputs": [
    {
     "name": "stdout",
     "output_type": "stream",
     "text": [
      "T-test score const:  28.48297252283438\n",
      "T-test score X1:  -7.730799649496356\n"
     ]
    }
   ],
   "source": [
    "t_test_const, t_test_X1= results.tvalues\n",
    "print(\"T-test score const: \", t_test_const)\n",
    "print(\"T-test score X1: \", t_test_X1)"
   ]
  },
  {
   "cell_type": "code",
   "execution_count": 29,
   "metadata": {},
   "outputs": [
    {
     "name": "stdout",
     "output_type": "stream",
     "text": [
      "P-value const:  2.7457309033140526e-26\n",
      "P-value X1:  3.7000669550200395e-09\n"
     ]
    }
   ],
   "source": [
    "p_value_const, p_value_X1= results.pvalues\n",
    "print(\"P-value const: \", p_value_const)\n",
    "print(\"P-value X1: \", p_value_X1)"
   ]
  },
  {
   "cell_type": "markdown",
   "metadata": {},
   "source": [
    "> Diperoleh dari output di atas, bahwa P-Value variabel Sr kurang dari 0,05 sehingga H0 ditolak dan dapat disimpulkan bahwa variabel independen Sr (X) memberikan pengaruh pada variabel dependen Aroma (y). Sehingga pembentukan model regresi dari kedua variabel tersebut dapat dilakukan."
   ]
  },
  {
   "cell_type": "markdown",
   "metadata": {
    "id": "NntHnEQd26nE"
   },
   "source": [
    "Uji kelayakan model F-test memilki tujuan, apakah model yang dibentuk layak digunakan atau tidak"
   ]
  },
  {
   "cell_type": "code",
   "execution_count": 30,
   "metadata": {
    "id": "yMUUi9YhT9ee"
   },
   "outputs": [
    {
     "name": "stdout",
     "output_type": "stream",
     "text": [
      "f-test score :  59.76526322065297\n",
      "P-value :  3.7000669550200382e-09\n",
      "Tolak H0\n"
     ]
    }
   ],
   "source": [
    "f_value = results.fvalue\n",
    "print(\"f-test score : \", f_value)\n",
    "\n",
    "p_value = results.f_pvalue\n",
    "print(\"P-value : \", p_value)\n",
    "\n",
    "if p_value < 0.05:\n",
    "  print(\"Tolak H0\")\n",
    "else:\n",
    "  print(\"Terima H0\")"
   ]
  },
  {
   "cell_type": "markdown",
   "metadata": {},
   "source": [
    "> Dari output di atas diperoleh P-Value kurang dari 0,05 sehingga H0 ditolak dan dapat disimpulkan bahwa model regresi dari variabel independen Sr (X) dan variabel dependen Aroma (y) layak digunakan. "
   ]
  },
  {
   "cell_type": "code",
   "execution_count": null,
   "metadata": {},
   "outputs": [],
   "source": []
  }
 ],
 "metadata": {
  "colab": {
   "provenance": []
  },
  "kernelspec": {
   "display_name": "Python 3 (ipykernel)",
   "language": "python",
   "name": "python3"
  },
  "language_info": {
   "codemirror_mode": {
    "name": "ipython",
    "version": 3
   },
   "file_extension": ".py",
   "mimetype": "text/x-python",
   "name": "python",
   "nbconvert_exporter": "python",
   "pygments_lexer": "ipython3",
   "version": "3.9.7"
  },
  "toc-autonumbering": false
 },
 "nbformat": 4,
 "nbformat_minor": 1
}
